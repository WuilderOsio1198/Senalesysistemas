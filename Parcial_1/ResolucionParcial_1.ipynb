{
  "nbformat": 4,
  "nbformat_minor": 0,
  "metadata": {
    "colab": {
      "private_outputs": true,
      "provenance": [],
      "authorship_tag": "ABX9TyORpY51yIdevdKhgk83juKu",
      "include_colab_link": true
    },
    "kernelspec": {
      "name": "python3",
      "display_name": "Python 3"
    },
    "language_info": {
      "name": "python"
    }
  },
  "cells": [
    {
      "cell_type": "markdown",
      "metadata": {
        "id": "view-in-github",
        "colab_type": "text"
      },
      "source": [
        "<a href=\"https://colab.research.google.com/github/WuilderOsio1198/Senalesysistemas/blob/main/Parcial_1/ResolucionParcial_1.ipynb\" target=\"_parent\"><img src=\"https://colab.research.google.com/assets/colab-badge.svg\" alt=\"Open In Colab\"/></a>"
      ]
    },
    {
      "cell_type": "markdown",
      "source": [
        "<div align=\"center\">\n",
        "\n",
        "<p><b>PARCIAL 1: SEÑALES Y SISTEMAS 2025-II</p>\n",
        "\n",
        "<p><b>Profesor:</b> Andrés Marino Álvarez Meza, Ph.D.</p>\n",
        "<p><b>Estudiante:</b>Wuilder Joafran Osio Tandioy</p>\n",
        "<p><b>Departamento de Ingeniería Eléctrica, Electrónica y Computación</p>\n",
        "<p><b>Universidad Nacional de Colombia - Sede Manizales </p>\n",
        "\n",
        "</di>\n",
        "\n"
      ],
      "metadata": {
        "id": "-SVRVplqpMu9"
      }
    },
    {
      "cell_type": "code",
      "source": [
        "import numpy as np\n",
        "import sympy as sp\n",
        "import matplotlib.pyplot as plt"
      ],
      "metadata": {
        "id": "CvxMMtZ4rYJ6"
      },
      "execution_count": null,
      "outputs": []
    },
    {
      "cell_type": "markdown",
      "source": [
        "#Punto 1\n",
        "La *distancia media* entre dos señales periódicas \\(x_1(t)\\) y \\(x_2(t)\\), reales o complejas, se puede expresar a partir de la *potencia media* de la diferencia entre ellas:\n",
        "\n",
        "$$\n",
        "d^2(x_1, x_2) = \\overline{P}{x_1 - x_2} = \\lim{T \\to \\infty} \\frac{1}{T} \\int_T |x_1(t) - x_2(t)|^2 \\, dt\n",
        "$$\n",
        "\n",
        "Sean dos señales definidas como:\n",
        "\n",
        "$$\n",
        "x_1(t) = A e^{-j n \\omega_0 t}\n",
        "$$\n",
        "\n",
        "$$\n",
        "x_2(t) = B e^{j m \\omega_0 t}\n",
        "$$\n",
        "\n",
        "donde:\n",
        "\n",
        "$$\n",
        "\\omega_0 = \\frac{2\\pi}{T}, \\quad T, A, B \\in \\mathbb{R}^+, \\quad n, m \\in \\mathbb{Z}.$$\n",
        "\n",
        "*Determine la distancia entre las dos señales.*\n",
        "\n",
        "*Compruebe sus resultados con Python.*\n"
      ],
      "metadata": {
        "id": "GriGNoHdvJqu"
      }
    },
    {
      "cell_type": "code",
      "source": [
        "''' Definicion de variables '''\n",
        "t = sp.symbols('t', real=True)  # Tiempo [s]\n",
        "\n",
        "#parametros de las señales\n",
        "A , B = sp.symbols('A B' , real = True, positive = True)  # Amplitud\n",
        "T = sp.symbols('T' , real = True , positive = True )  # Periodo [s]\n",
        "n,m = sp.symbols('n m' , interger= True)  # multiplos enteros de la frecuencia\n",
        "wo = 2 * sp.pi / T  # Frecuencia angular [rad/s]\n",
        "\n",
        "'''Definicion de las señales'''\n",
        "x1 = A * sp.exp(-sp.I * n * wo * t)   # señal 1, x1(t)\n",
        "x2 = B * sp.exp(sp.I* m * wo * t)   # señal 2, x2 (t)\n",
        "\n",
        "'''Distancia media'''\n",
        "# aplicamos la formula con las señales\n",
        "d = sp.sqrt(sp.limit((1/T)* sp.integrate(sp.Abs(x1 - x2)**2, (t, 0 , T)), T,sp.oo))\n",
        "d"
      ],
      "metadata": {
        "id": "FrhCINSyxlkI"
      },
      "execution_count": null,
      "outputs": []
    },
    {
      "cell_type": "markdown",
      "source": [
        "# Punto 2\n",
        "Encuentre la señal en tiempo discreto al utilizar un conversor análogo digital con frecuencia de muestreo de 5 kHz y 4 bits de capacidad de representación, aplicado a la señal continua:\n",
        "\n",
        "x(t) = 3 cos(1000πt) + 5 sin(3000πt) + 10 cos(11000πt)\n",
        "\n",
        "Realizar la simulación del proceso de discretización (incluyendo al menos tres periodos de x(t)). En caso de que la discretización no sea apropiada, diseñe e implemente un conversor adecuado para la señal estudiada.\n"
      ],
      "metadata": {
        "id": "yTDY1AYg5_VH"
      }
    },
    {
      "cell_type": "code",
      "source": [
        "fs = 5000                # frecuencia de muestreo\n",
        "ts = 1/5000              # periodo de muestreo\n",
        "\n",
        "'''capacidad de representacion de grafica'''\n",
        "bits = 4                 # numero de bits\n",
        "levelsbits = 2**bits     # nieveles o cajones para la cuantizacion de bits\n",
        "\n",
        "\n",
        "fo = 1000                 #frecuencia de la señal mas pequeña\n",
        "to = 1/fo                 #periodo de la señal\n",
        "pd = 3 * to               #periodo de simulacion\n",
        "t = np.linspace(0 , pd , 10000)  #Valores de muestreo en tiempo continuo\n",
        "tn = np.arange(0 , pd , ts)      # valores de muestreo en tiempo discreto\n",
        "\n",
        "''' definimos la señal '''\n",
        "y = 3 * np.cos(1000 * np.pi * t) + 5 * np.sin(3000 * np.pi * t) + 10 * np.cos(11000 * np.pi * t)      # señal x(t)\n",
        "\n",
        "'''digitalizamos'''\n",
        "xn = 3 * np.cos(1000 * np.pi * tn) + 5 * np.sin(3000 * np.pi * tn) + 10 * np.cos(11000 * np.pi * tn)     # señal discreta\n",
        "\n",
        "'''cuantizacion'''\n",
        "niveles = np.linspace(min(y),max(y),levelsbits)     #vector de niveles de cuantizacion\n",
        "dis = np.abs(xn[:,None] - niveles[None, :])         #matriz de distancias entre muestras y niveles\n",
        "ind = np.argmin(dis, axis=1)                        # indices de los niveles mas cercanos\n",
        "\n",
        "'''señal digitalizada'''\n",
        "xdig = niveles[ind]\n",
        "\n",
        "''' gráfica '''\n",
        "plt.figure(figsize=(10,6))\n",
        "plt.plot(t, y, label='$x(t)$', color='C0', linewidth=2)\n",
        "plt.stem(tn, xn, label='$x[n]$', linefmt='C2-', markerfmt='C2o', basefmt=\" \")\n",
        "plt.plot(tn, xdig, label='$x_{dig}[n]$', color='C3', marker='s', linestyle='-', linewidth=1)\n",
        "\n",
        "# Líneas de niveles de cuantización\n",
        "for lv in niveles:\n",
        "    plt.axhline(lv, color='green', linewidth=1, linestyle='--')   #se dibujan los niveles de cuantizacion con rectas\n",
        "\n",
        "plt.title('Digitalización de $x(t)$ con $f_s = {}$ Hz y {} bits'.format(fs, bits))\n",
        "plt.xlabel('Tiempo [s]')\n",
        "plt.ylabel('Amplitud [V]')\n",
        "plt.grid()\n",
        "plt.legend(loc='upper right')\n",
        "plt.show()"
      ],
      "metadata": {
        "id": "-RmvlaC979DE"
      },
      "execution_count": null,
      "outputs": []
    },
    {
      "cell_type": "markdown",
      "source": [
        "### Verificación del criterio de Nyquist\n",
        "\n",
        "Ahora se realiza el ejercicio donde, si se cumple el **criterio de Nyquist**, la frecuencia de muestreo debe ser **mayor o igual al doble de la frecuencia de la señal más grande**:\n",
        "\n",
        "$$\n",
        "f_s \\geq 2 f_{max}\n",
        "$$\n",
        "\n",
        "En la **primera parte** del ejercicio, se tiene:\n",
        "\n",
        "$$\n",
        "f_s = 5000 \\text{ Hz}\n",
        "$$\n",
        "\n",
        "$$\n",
        "f_{max1} = 5500 \\text{ Hz}, \\quad f_{max2} = 11000 \\text{ Hz}\n",
        "$$\n",
        "\n",
        "Entonces:\n",
        "\n",
        "$$\n",
        "5000 \\geq 2(5500) \\Rightarrow 5000 \\geq 11000\n",
        "$$\n",
        "\n",
        "En este caso **no se cumple** completamente el criterio de Nyquist, ya que la frecuencia de muestreo es **menor** al doble de la frecuencia máxima.\n",
        "\n",
        "\n",
        "\n",
        "Ahora, en el **segundo caso**, la frecuencia de muestreo será:\n",
        "\n",
        "$$\n",
        "f_s = 25000 \\text{ Hz}\n",
        "$$\n",
        "\n",
        "Por tanto:\n",
        "\n",
        "$$\n",
        "25000 \\geq 2(5500) \\Rightarrow 25000 \\geq 11000\n",
        "$$\n",
        "\n",
        "\n",
        "En este caso, **sí se cumple el criterio de Nyquist**, ya que la frecuencia de muestreo es **mayor o igual** que el doble de la frecuencia máxima de la señal.\n",
        "\n"
      ],
      "metadata": {
        "id": "Y1SRuUQiMuOd"
      }
    },
    {
      "cell_type": "code",
      "source": [
        "fs = 25000               # frecuencia de muestreo\n",
        "ts = 1/fs                # periodo de muestreo\n",
        "\n",
        "'''capacidad de representacion de grafica'''\n",
        "bits = 4                 # numero de bits\n",
        "levelsbits = 2**bits     # nieveles o cajones para la cuantizacion de bits\n",
        "\n",
        "\n",
        "fo = 1000               #frecuencia de la señal\n",
        "to = 1/fo                #periodo de la señal\n",
        "pd = 3 * to              #periodo de simulacion\n",
        "t = np.linspace(0 , pd , 10000)  #Valores de muestreo en tiempo continuo\n",
        "tn = np.arange(0 , pd , ts) # valores de muestreo en tiempo discreto\n",
        "\n",
        "''' definimos la señal '''\n",
        "y = 3 * np.cos(1000 * np.pi * t) + 5 * np.sin(3000 * np.pi * t) + 10 * np.cos(11000 * np.pi * t)      # señal x(t)\n",
        "\n",
        "'''digitalizamos'''\n",
        "xn = 3 * np.cos(1000 * np.pi * tn) + 5 * np.sin(3000 * np.pi * tn) + 10 * np.cos(11000 * np.pi * tn)     # señal discreta\n",
        "\n",
        "'''cuantizacion'''\n",
        "niveles = np.linspace(min(y),max(y),levelsbits)     #vector de niveles de cuantizacion\n",
        "dis = np.abs(xn[:,None] - niveles[None, :])       #matriz de distancias entre muestras y niveles\n",
        "ind = np.argmin(dis, axis=1)                    # indices de los niveles mas cercanos\n",
        "\n",
        "'''señal digitalizada'''\n",
        "xdig = niveles[ind]\n",
        "\n",
        "''' gráfica '''\n",
        "plt.figure(figsize=(10,6))\n",
        "plt.plot(t, y, label='$x(t)$', color='C0', linewidth=2)\n",
        "plt.stem(tn, xn, label='$x[n]$', linefmt='C2-', markerfmt='C2o', basefmt=\" \")\n",
        "plt.plot(tn, xdig, label='$x_{dig}[n]$', color='C3', marker='s', linestyle='-', linewidth=1)\n",
        "\n",
        "# Líneas de niveles de cuantización\n",
        "for lv in niveles:\n",
        "    plt.axhline(lv, color='green', linewidth=1, linestyle='--')     #se dibujan los niveles de cuantizacion con rectas\n",
        "\n",
        "\n",
        "plt.title('Digitalización de $x(t)$ con $f_s = {}$ Hz y {} bits'.format(fs, bits))\n",
        "plt.xlabel('Tiempo [s]')\n",
        "plt.ylabel('Amplitud [V]')\n",
        "plt.grid()\n",
        "plt.legend(loc='upper right')\n",
        "plt.show()"
      ],
      "metadata": {
        "id": "vSJMEpGtNB4P"
      },
      "execution_count": null,
      "outputs": []
    },
    {
      "cell_type": "markdown",
      "source": [
        "###  Punto 4\n",
        "Encuentre el espectro de Fourier, su parte real, imaginaria, magnitud, fase y el error relativo para $n \\in \\{0, \\pm1, \\pm2, \\pm3, \\pm4, \\pm5\\}$, a partir de $x''(t)$ para la señal $x(t)$ en la Figura 1. Compruebe el espectro obtenido con la estimación a partir de $x(t)$. Presente las simulaciones de Python respectivas.\n",
        "\n",
        "\n",
        "![Captura de pantalla 2025-10-11 025704.png](data:image/png;base64,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)"
      ],
      "metadata": {
        "id": "Q8M55jACTWEr"
      }
    },
    {
      "cell_type": "code",
      "source": [],
      "metadata": {
        "id": "eIZa4CeVUcKR"
      },
      "execution_count": null,
      "outputs": []
    }
  ]
}
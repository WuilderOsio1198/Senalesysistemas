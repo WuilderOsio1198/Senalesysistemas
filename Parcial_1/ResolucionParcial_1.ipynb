{
  "nbformat": 4,
  "nbformat_minor": 0,
  "metadata": {
    "colab": {
      "private_outputs": true,
      "provenance": [],
      "authorship_tag": "ABX9TyOr2YP8uuvgX2i5WjJEGfbs",
      "include_colab_link": true
    },
    "kernelspec": {
      "name": "python3",
      "display_name": "Python 3"
    },
    "language_info": {
      "name": "python"
    }
  },
  "cells": [
    {
      "cell_type": "markdown",
      "metadata": {
        "id": "view-in-github",
        "colab_type": "text"
      },
      "source": [
        "<a href=\"https://colab.research.google.com/github/WuilderOsio1198/Senalesysistemas/blob/main/Parcial_1/ResolucionParcial_1.ipynb\" target=\"_parent\"><img src=\"https://colab.research.google.com/assets/colab-badge.svg\" alt=\"Open In Colab\"/></a>"
      ]
    },
    {
      "cell_type": "markdown",
      "source": [
        "<div align=\"center\">\n",
        "\n",
        "<p><b>PARCIAL 1: SEÑALES Y SISTEMAS 2025-II</p>\n",
        "\n",
        "<p><b>Profesor:</b> Andrés Marino Álvarez Meza, Ph.D.</p>\n",
        "<p><b>Estudiante:</b>Wuilder Joafran Osio Tandioy</p>\n",
        "<p><b>Departamento de Ingeniería Eléctrica, Electrónica y Computación</p>\n",
        "<p><b>Universidad Nacional de Colombia - Sede Manizales </p>\n",
        "\n",
        "</di>\n",
        "\n"
      ],
      "metadata": {
        "id": "-SVRVplqpMu9"
      }
    },
    {
      "cell_type": "code",
      "source": [
        "import numpy as np\n",
        "import sympy as sp\n",
        "import matplotlib.pyplot as plt"
      ],
      "metadata": {
        "id": "CvxMMtZ4rYJ6"
      },
      "execution_count": null,
      "outputs": []
    },
    {
      "cell_type": "markdown",
      "source": [
        "#Punto 1\n",
        "La *distancia media* entre dos señales periódicas \\(x_1(t)\\) y \\(x_2(t)\\), reales o complejas, se puede expresar a partir de la *potencia media* de la diferencia entre ellas:\n",
        "\n",
        "$$\n",
        "d^2(x_1, x_2) = \\overline{P}{x_1 - x_2} = \\lim{T \\to \\infty} \\frac{1}{T} \\int_T |x_1(t) - x_2(t)|^2 \\, dt\n",
        "$$\n",
        "\n",
        "Sean dos señales definidas como:\n",
        "\n",
        "$$\n",
        "x_1(t) = A e^{-j n \\omega_0 t}\n",
        "$$\n",
        "\n",
        "$$\n",
        "x_2(t) = B e^{j m \\omega_0 t}\n",
        "$$\n",
        "\n",
        "donde:\n",
        "\n",
        "$$\n",
        "\\omega_0 = \\frac{2\\pi}{T}, \\quad T, A, B \\in \\mathbb{R}^+, \\quad n, m \\in \\mathbb{Z}.$$\n",
        "\n",
        "*Determine la distancia entre las dos señales.*\n",
        "\n",
        "*Compruebe sus resultados con Python.*\n"
      ],
      "metadata": {
        "id": "GriGNoHdvJqu"
      }
    },
    {
      "cell_type": "code",
      "source": [
        "''' Definicion de variables '''\n",
        "t = sp.symbols('t', real=True)  # Tiempo [s]\n",
        "\n",
        "#parametros de las señales\n",
        "A , B = sp.symbols('A B' , real = True, positive = True)  # Amplitud\n",
        "T = sp.symbols('T' , real = True , positive = True )  # Periodo [s]\n",
        "n,m = sp.symbols('n m' , interger= True)  # multiplos enteros de la frecuencia\n",
        "wo = 2 * sp.pi / T  # Frecuencia angular [rad/s]\n",
        "\n",
        "'''Definicion de las señales'''\n",
        "x1 = A * sp.exp(-sp.I * n * wo * t)   # señal 1, x1(t)\n",
        "x2 = B * sp.exp(sp.I* m * wo * t)   # señal 2, x2 (t)\n",
        "\n",
        "'''Distancia media'''\n",
        "# aplicamos la formula con las señales\n",
        "d = sp.sqrt(sp.limit((1/T)* sp.integrate(sp.Abs(x1 - x2)**2, (t, 0 , T)), T,sp.oo))\n",
        "d"
      ],
      "metadata": {
        "id": "FrhCINSyxlkI"
      },
      "execution_count": null,
      "outputs": []
    },
    {
      "cell_type": "markdown",
      "source": [
        "# Punto 2\n",
        "Encuentre la señal en tiempo discreto al utilizar un conversor análogo digital con frecuencia de muestreo de 5 kHz y 4 bits de capacidad de representación, aplicado a la señal continua:\n",
        "\n",
        "x(t) = 3 cos(1000πt) + 5 sin(3000πt) + 10 cos(11000πt)\n",
        "\n",
        "Realizar la simulación del proceso de discretización (incluyendo al menos tres periodos de x(t)). En caso de que la discretización no sea apropiada, diseñe e implemente un conversor adecuado para la señal estudiada.\n"
      ],
      "metadata": {
        "id": "yTDY1AYg5_VH"
      }
    },
    {
      "cell_type": "code",
      "source": [],
      "metadata": {
        "id": "XWnX5XgL6BUD"
      },
      "execution_count": null,
      "outputs": []
    }
  ]
}